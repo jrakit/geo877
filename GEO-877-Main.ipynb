{
 "cells": [
  {
   "cell_type": "markdown",
   "metadata": {},
   "source": [
    "## GEO 877 - Spatial Algorithms \n",
    "### Group Kirsteina \n",
    "#### Tamara, Joya, Andrejs, Djordje"
   ]
  },
  {
   "cell_type": "markdown",
   "metadata": {},
   "source": [
    "### Data"
   ]
  },
  {
   "cell_type": "markdown",
   "metadata": {},
   "source": [
    "\n",
    "#### Description\n",
    "For our analysis, we will be using the following data:\n",
    "- Park data - Grünfläschen - Stadt Zürich - **BOUNDARY DATA**\n",
    "    - 4 data types: Parks, Sports Areas, Cemeteries, Other\n",
    "    - We will use Parks, Sports Areas, and Cemeteries as designated \"parks\"\n",
    "    - We are considering adding Forests to the \"parks\" set\n",
    "        - Could someone please download it, I can't: https://www.stadt-zuerich.ch/geodaten/download/111\n",
    "    - **Can we find a shapefile somewhere that has just green areas as polygons?** we can use it to calculate % areas\n",
    "\n",
    "\n",
    "- Fountain data - **EVALUATION DATA**\n",
    "    - Brunnen - fountains for heat relief\n",
    "    - Stillgewässer - fountains for drinking \n",
    "    - **Can we find a shapefile somewhere that has just water areas as polygons?** we can use it to calculate % areas\n",
    "\n",
    "\n",
    "- ZüriWC data - **EVALUATION DATA**\n",
    "    - Location of publicly accessible WCs\n",
    "\n",
    "\n",
    "- Spielpark data - **EVALUATION DATA**\n",
    "    - Location of kids' playgrounds\n",
    "\n",
    "\n",
    "- LIDAR data - Canopy Height - **EVALUATION DATA**\n",
    "    - Download link: https://www.stadt-zuerich.ch/geodaten/download/Baumhoehen_2022__CHM_aus_Lidar_ \n",
    "\n",
    "\n",
    "- Socialshilfe data - **EVALUATION DATA**\n",
    "    - Data on Social Assistance Quotas - need additional clarity whether this is percent of residents that receive Social Assistance or else\n",
    "\n",
    "\n",
    "#### Data Structure\n",
    "\n",
    "| PolygonID | Polygon Info | Green Area | Water Area | WC | Fountain | Playground | Socialshilfe | Canopy Height |\n",
    "| --- | --- | --- | --- | --- | --- | --- | --- | --- |\n",
    "| X1 | coordinates | % of park | % of park | yes/no boolean | yes/no boolean | yes/no boolean | quota* | height* |\n",
    "\n",
    "*needs more thought and discussion\n"
   ]
  },
  {
   "cell_type": "markdown",
   "metadata": {},
   "source": [
    "### Analysis Workflow - Preliminary"
   ]
  },
  {
   "cell_type": "markdown",
   "metadata": {},
   "source": [
    "\n",
    "1. Create park polygons:\n",
    "    1. Download Wald data\n",
    "    2. Remove \"other\" category\n",
    "    3. Add Wald data\n",
    "    4. Finalize all polygons - ensure all lines are cohesive\n",
    "2. LIDAR Data:\n",
    "    1. Prepare LIDAR data\n",
    "    2. Extract only relevant data for Parks (Union of Park extent and LIDAR) to remove excess\n",
    "3. Calculations:\n",
    "    1. Park area as green space - %\n",
    "    2. Park area as water space - %\n",
    "4. Data Merge:\n",
    "    1. Green area - join data to each park\n",
    "    2. Water area - join data to each park\n",
    "    3. Socialshilfe - join data to each park\n",
    "5. Point in Polygon:\n",
    "    1. WC - each park receives a numeric value\n",
    "    2. Fountain - each park receives a numeric value\n",
    "    3. Playground - each park receives a numeric value\n",
    "6. Point in Polygon - translated:\n",
    "    1. For each (WC, Fountain, Playground) assign a yes/no as result of a logical test loop (0 = no, 0> yes)\n",
    "7. LIDAR Data\n",
    "    1. **Determine a way to use this data** that is in line with the paper\n",
    "8. Clustering\n"
   ]
  },
  {
   "cell_type": "markdown",
   "metadata": {},
   "source": [
    "### Production"
   ]
  },
  {
   "cell_type": "code",
   "execution_count": 33,
   "metadata": {},
   "outputs": [],
   "source": [
    "#Packages\n",
    "\n",
    "from geospatial import *\n",
    "import numpy as np\n",
    "import pandas as pd\n",
    "import matplotlib.pyplot as plt\n",
    "import geopandas as gpd\n",
    "from shapely import wkt"
   ]
  },
  {
   "cell_type": "markdown",
   "metadata": {},
   "source": [
    "#### 1. Polygon creation"
   ]
  },
  {
   "cell_type": "code",
   "execution_count": 34,
   "metadata": {},
   "outputs": [],
   "source": [
    "#Data Import\n",
    "\n",
    "parks = gpd.read_file('data/grunflaschen_csv/data/gsz.gruenflaechen.csv')\n",
    "#parks['produkt'].unique()\n",
    "\n",
    "#forests = pd.read_csv\n",
    "#..."
   ]
  },
  {
   "cell_type": "code",
   "execution_count": null,
   "metadata": {},
   "outputs": [
    {
     "data": {
      "text/plain": [
       "array(['610 Parkanlagen', '630 Sport- und Badeanlagen', '620 Friedhöfe'],\n",
       "      dtype=object)"
      ]
     },
     "execution_count": 35,
     "metadata": {},
     "output_type": "execute_result"
    }
   ],
   "source": [
    "#Data Cleaning\n",
    "#filter out 640 Weitere Freiräume\n",
    "filtered_park = []\n",
    "for x, y in parks.iterrows():\n",
    "    if y['produkt'] != \"640 Weitere Freiräume\":\n",
    "        filtered_park.append(y)\n",
    "\n",
    "dfParks = pd.DataFrame(filtered_park)\n",
    "\n",
    "dfParks['produkt'].unique()\n",
    "#parks.info()"
   ]
  },
  {
   "cell_type": "code",
   "execution_count": null,
   "metadata": {},
   "outputs": [
    {
     "name": "stdout",
     "output_type": "stream",
     "text": [
      "              pflegeareal                                           geometry  \\\n",
      "110           FH Sihlfeld  MULTIPOLYGON (((2.68e+06 1.25e+06, 2.68e+06 1....   \n",
      "410  Sportzentrum Hardhof  MULTIPOLYGON (((2.68e+06 1.25e+06, 2.68e+06 1....   \n",
      "8               Allmend I  MULTIPOLYGON (((2.68e+06 1.24e+06, 2.68e+06 1....   \n",
      "105           FH Nordheim  MULTIPOLYGON (((2.68e+06 1.25e+06, 2.68e+06 1....   \n",
      "98            FH Eichbühl  POLYGON ((2.68e+06 1.25e+06, 2.68e+06 1.25e+06...   \n",
      "..                    ...                                                ...   \n",
      "30          Bellariaplatz  POLYGON ((2.68e+06 1.25e+06, 2.68e+06 1.25e+06...   \n",
      "480       Weggebiet LE911  POLYGON ((2.68e+06 1.24e+06, 2.68e+06 1.24e+06...   \n",
      "190          Hauseranlage  POLYGON ((2.69e+06 1.25e+06, 2.69e+06 1.25e+06...   \n",
      "349     Schaffhauserplatz  MULTIPOLYGON (((2.68e+06 1.25e+06, 2.68e+06 1....   \n",
      "506          Zelglianlage  POLYGON ((2.68e+06 1.25e+06, 2.68e+06 1.25e+06...   \n",
      "\n",
      "    objektidentifikator          produkt    erfassungseinheit objectid  \\\n",
      "110               63861    620 Friedhöfe  624 Friedhofanlagen    28899   \n",
      "410                6401  610 Parkanlagen      611 Parkanlagen      223   \n",
      "8                 13674  610 Parkanlagen      611 Parkanlagen     3846   \n",
      "105               65441    620 Friedhöfe  624 Friedhofanlagen    29689   \n",
      "98                67104    620 Friedhöfe  624 Friedhofanlagen    30520   \n",
      "..                  ...              ...                  ...      ...   \n",
      "30                13534  610 Parkanlagen      611 Parkanlagen     3776   \n",
      "480               22554  610 Parkanlagen      611 Parkanlagen     8270   \n",
      "190               14924  610 Parkanlagen      611 Parkanlagen     4466   \n",
      "349                8192  610 Parkanlagen      611 Parkanlagen     1118   \n",
      "506                9061  610 Parkanlagen      611 Parkanlagen     1548   \n",
      "\n",
      "                                         pflegeeinheit pflegestufe  \\\n",
      "110                                   2421 Blumenrasen           3   \n",
      "410  3782 Pflasterung und Plattenbeläge (inkl. Rase...           3   \n",
      "8                                           2816 Mauer           3   \n",
      "105                                         2426 Mauer           2   \n",
      "98                                2433 Gewässer ruhend           3   \n",
      "..                                                 ...         ...   \n",
      "30                              2682 Ruderalvegetation           3   \n",
      "480                             5761 Treppe, Sitzstufe           3   \n",
      "190                            1636 Strauchbepflanzung           3   \n",
      "349                                     1553 Beetrosen           3   \n",
      "506                            1964 Staudenbepflanzung           3   \n",
      "\n",
      "              area  \n",
      "110  256402.438326  \n",
      "410  233549.059461  \n",
      "8    168765.687047  \n",
      "105  160952.536368  \n",
      "98   138903.774361  \n",
      "..             ...  \n",
      "30       80.295000  \n",
      "480      76.370000  \n",
      "190      73.525000  \n",
      "349      56.485000  \n",
      "506      45.370000  \n",
      "\n",
      "[517 rows x 9 columns]\n"
     ]
    },
    {
     "name": "stderr",
     "output_type": "stream",
     "text": [
      "C:\\Users\\Joya\\AppData\\Local\\Temp\\ipykernel_55372\\681822438.py:18: UserWarning: Column names longer than 10 characters will be truncated when saved to ESRI Shapefile.\n",
      "  largest_geometry.to_file('data/largest_geometry.shp')\n",
      "c:\\Users\\Joya\\anaconda3\\Lib\\site-packages\\pyogrio\\raw.py:723: RuntimeWarning: Normalized/laundered field name: 'pflegeareal' to 'pflegearea'\n",
      "  ogr_write(\n",
      "c:\\Users\\Joya\\anaconda3\\Lib\\site-packages\\pyogrio\\raw.py:723: RuntimeWarning: Normalized/laundered field name: 'objektidentifikator' to 'objektiden'\n",
      "  ogr_write(\n",
      "c:\\Users\\Joya\\anaconda3\\Lib\\site-packages\\pyogrio\\raw.py:723: RuntimeWarning: Normalized/laundered field name: 'erfassungseinheit' to 'erfassungs'\n",
      "  ogr_write(\n",
      "c:\\Users\\Joya\\anaconda3\\Lib\\site-packages\\pyogrio\\raw.py:723: RuntimeWarning: Normalized/laundered field name: 'pflegeeinheit' to 'pflegeeinh'\n",
      "  ogr_write(\n",
      "c:\\Users\\Joya\\anaconda3\\Lib\\site-packages\\pyogrio\\raw.py:723: RuntimeWarning: Normalized/laundered field name: 'pflegestufe' to 'pflegestuf'\n",
      "  ogr_write(\n"
     ]
    }
   ],
   "source": [
    "#convert to geodataframe \n",
    "gdfParks = gpd.GeoDataFrame(dfParks, geometry=\"geometry\", crs=\"EPSG:2056\") \n",
    "#group and dissolve by 'pflegeareal'\n",
    "gdf_grouped = gdfParks.dissolve(by=\"pflegeareal\")\n",
    "# Reset the index to make 'pflegeareal' a column again\n",
    "gdf_grouped = gdf_grouped.reset_index()\n",
    "# Add an area column\n",
    "gdf_grouped['area'] = gdf_grouped.geometry.area\n",
    "# Sort by area in descending order and keep the largest geometry for each 'pflegeareal', so that biggest area is kept\n",
    "largest_geometry = gdf_grouped.sort_values(by='area', ascending=False).drop_duplicates(subset='pflegeareal', keep='first')\n",
    "# Save the result to a new csv\n",
    "largest_geometry.to_file('data/largest_geometry.shp')\n",
    "largest_geometry[['pflegeareal', 'area']].to_csv('data/largest_geometry.csv', index=False)\n",
    "\n",
    "# Print the result\n",
    "print(largest_geometry)\n",
    "#PROBLEM: we only have geometry but not location of the parks, so we need to merge with the original data to get the location of the parks.\n"
   ]
  },
  {
   "cell_type": "markdown",
   "metadata": {},
   "source": [
    "#### 2. LiDAR data preparation"
   ]
  },
  {
   "cell_type": "code",
   "execution_count": null,
   "metadata": {},
   "outputs": [],
   "source": [
    "#file much too big (505MB), upload to cloud provider (google drive)\n",
    "import gdown\n",
    "\n",
    "# Google Drive file ID\n",
    "file_id = \"1kDGaIJPOZITEBPkJTaSSKi3eEWbwXpkl\"\n",
    "# Construct the download URL\n",
    "url = f\"https://drive.google.com/uc?id={file_id}\"\n",
    "\n",
    "# Download the file\n",
    "output_path = \"your_file.tif\"  # Change extension as needed\n",
    "gdown.download(url, output_path, quiet=False)\n",
    "\n",
    "print(f\"Downloaded to {output_path}\")\n"
   ]
  },
  {
   "cell_type": "markdown",
   "metadata": {},
   "source": [
    "#### 3. % Space Calculations (I think that we can make this an algorithm, too)"
   ]
  },
  {
   "cell_type": "code",
   "execution_count": null,
   "metadata": {},
   "outputs": [],
   "source": [
    "#area calculation of all parks already done \n",
    "#area in area (Chaussierung of parks needs to be considered) polygon in polygon\n",
    "#for trails in parks, can we also consider other lines?"
   ]
  },
  {
   "cell_type": "markdown",
   "metadata": {},
   "source": [
    "#### 4. Data Merging/Joining"
   ]
  },
  {
   "cell_type": "code",
   "execution_count": null,
   "metadata": {},
   "outputs": [],
   "source": []
  },
  {
   "cell_type": "markdown",
   "metadata": {},
   "source": [
    "#### 5. Point in Polygon (Algorithm)"
   ]
  },
  {
   "cell_type": "code",
   "execution_count": null,
   "metadata": {},
   "outputs": [],
   "source": []
  },
  {
   "cell_type": "markdown",
   "metadata": {},
   "source": [
    "#### X. Clustering (We could attempt an algorithm)"
   ]
  },
  {
   "cell_type": "code",
   "execution_count": null,
   "metadata": {},
   "outputs": [],
   "source": []
  }
 ],
 "metadata": {
  "kernelspec": {
   "display_name": "base",
   "language": "python",
   "name": "python3"
  },
  "language_info": {
   "codemirror_mode": {
    "name": "ipython",
    "version": 3
   },
   "file_extension": ".py",
   "mimetype": "text/x-python",
   "name": "python",
   "nbconvert_exporter": "python",
   "pygments_lexer": "ipython3",
   "version": "3.12.7"
  }
 },
 "nbformat": 4,
 "nbformat_minor": 2
}
